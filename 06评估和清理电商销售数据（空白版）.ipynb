{
 "cells": [
  {
   "cell_type": "markdown",
   "metadata": {},
   "source": [
    "原始数据集记录了一家英国在线零售公司在2010年12月1日至2011年12月9日期间的所有交易情况，涵盖了该公司在全球不同国家和地区的业务数据。该公司主要销售覆盖各个场景的礼品，包括但不限于生日礼品、结婚纪念品、圣诞礼品等等。该公司的客户群体主要包括批发商和个人消费者，其中批发商占据了相当大的比例。"
   ]
  },
  {
   "cell_type": "markdown",
   "metadata": {},
   "source": [
    "数据每列的含义如下：\n",
    "- `InvoiceNo`: 发票号码。6位数，作为交易的唯一标识符。如果这个代码以字母“c”开头，表示这笔交易被取消。\n",
    "- `StockCode`: 产品代码。5位数，作为产品的唯一标识符。\n",
    "- `Description`: 产品名称。\n",
    "- `Quantity`: 产品在交易中的数量。\n",
    "- `InvoiceDate`: 发票日期和时间。交易发生的日期和时间。\n",
    "- `UnitPrice`: 单价。价格单位为英镑（£）。\n",
    "- `CustomerID`: 客户编号。5位数，作为客户的唯一标识符。\n",
    "- `Country`: 国家名称。客户所居住的国家的名称。"
   ]
  },
  {
   "cell_type": "code",
   "execution_count": 151,
   "outputs": [],
   "source": [],
   "metadata": {
    "collapsed": false,
    "ExecuteTime": {
     "end_time": "2023-11-08T14:04:52.790028Z",
     "start_time": "2023-11-08T14:04:52.764377Z"
    }
   }
  },
  {
   "cell_type": "markdown",
   "metadata": {},
   "source": [
    "## 读取数据"
   ]
  },
  {
   "cell_type": "code",
   "execution_count": 152,
   "metadata": {
    "ExecuteTime": {
     "end_time": "2023-11-08T14:04:53.118183Z",
     "start_time": "2023-11-08T14:04:52.767984Z"
    }
   },
   "outputs": [
    {
     "data": {
      "text/plain": "  InvoiceNo StockCode                          Description  Quantity  \\\n0    536365    85123A   WHITE HANGING HEART T-LIGHT HOLDER         6   \n1    536365     71053                  WHITE METAL LANTERN         6   \n2    536365    84406B       CREAM CUPID HEARTS COAT HANGER         8   \n3    536365    84029G  KNITTED UNION FLAG HOT WATER BOTTLE         6   \n4    536365    84029E       RED WOOLLY HOTTIE WHITE HEART.         6   \n\n      InvoiceDate  UnitPrice  CustomerID         Country  \n0  12/1/2010 8:26       2.55     17850.0  United Kingdom  \n1  12/1/2010 8:26       3.39     17850.0  United Kingdom  \n2  12/1/2010 8:26       2.75     17850.0  United Kingdom  \n3  12/1/2010 8:26       3.39     17850.0  United Kingdom  \n4  12/1/2010 8:26       3.39     17850.0  United Kingdom  ",
      "text/html": "<div>\n<style scoped>\n    .dataframe tbody tr th:only-of-type {\n        vertical-align: middle;\n    }\n\n    .dataframe tbody tr th {\n        vertical-align: top;\n    }\n\n    .dataframe thead th {\n        text-align: right;\n    }\n</style>\n<table border=\"1\" class=\"dataframe\">\n  <thead>\n    <tr style=\"text-align: right;\">\n      <th></th>\n      <th>InvoiceNo</th>\n      <th>StockCode</th>\n      <th>Description</th>\n      <th>Quantity</th>\n      <th>InvoiceDate</th>\n      <th>UnitPrice</th>\n      <th>CustomerID</th>\n      <th>Country</th>\n    </tr>\n  </thead>\n  <tbody>\n    <tr>\n      <th>0</th>\n      <td>536365</td>\n      <td>85123A</td>\n      <td>WHITE HANGING HEART T-LIGHT HOLDER</td>\n      <td>6</td>\n      <td>12/1/2010 8:26</td>\n      <td>2.55</td>\n      <td>17850.0</td>\n      <td>United Kingdom</td>\n    </tr>\n    <tr>\n      <th>1</th>\n      <td>536365</td>\n      <td>71053</td>\n      <td>WHITE METAL LANTERN</td>\n      <td>6</td>\n      <td>12/1/2010 8:26</td>\n      <td>3.39</td>\n      <td>17850.0</td>\n      <td>United Kingdom</td>\n    </tr>\n    <tr>\n      <th>2</th>\n      <td>536365</td>\n      <td>84406B</td>\n      <td>CREAM CUPID HEARTS COAT HANGER</td>\n      <td>8</td>\n      <td>12/1/2010 8:26</td>\n      <td>2.75</td>\n      <td>17850.0</td>\n      <td>United Kingdom</td>\n    </tr>\n    <tr>\n      <th>3</th>\n      <td>536365</td>\n      <td>84029G</td>\n      <td>KNITTED UNION FLAG HOT WATER BOTTLE</td>\n      <td>6</td>\n      <td>12/1/2010 8:26</td>\n      <td>3.39</td>\n      <td>17850.0</td>\n      <td>United Kingdom</td>\n    </tr>\n    <tr>\n      <th>4</th>\n      <td>536365</td>\n      <td>84029E</td>\n      <td>RED WOOLLY HOTTIE WHITE HEART.</td>\n      <td>6</td>\n      <td>12/1/2010 8:26</td>\n      <td>3.39</td>\n      <td>17850.0</td>\n      <td>United Kingdom</td>\n    </tr>\n  </tbody>\n</table>\n</div>"
     },
     "execution_count": 152,
     "metadata": {},
     "output_type": "execute_result"
    }
   ],
   "source": [
    "import pandas as pd\n",
    "original_data = pd.read_csv(\"/Users/teddy/Desktop/林粒粒/4.数据评估与清洗/e_commerce.csv\")\n",
    "original_data.head()"
   ]
  },
  {
   "cell_type": "markdown",
   "metadata": {},
   "source": [
    "## 评估数据"
   ]
  },
  {
   "cell_type": "code",
   "execution_count": 153,
   "outputs": [
    {
     "data": {
      "text/plain": "       InvoiceNo StockCode                        Description  Quantity  \\\n47571     540418     21623       VINTAGE UNION JACK MEMOBOARD         1   \n182369    552542     21933    PINK VINTAGE PAISLEY PICNIC BAG        10   \n128334    547253     22425              ENAMEL COLANDER CREAM         2   \n410492    572103     22209      WOOD STAMP SET HAPPY BIRTHDAY         1   \n200324    554125     82486  WOOD S/3 CABINET ANT WHITE FINISH         2   \n474392    576840     23198     PANTRY MAGNETIC  SHOPPING LIST         1   \n325794    565456     84991        60 TEATIME FAIRY CAKE CASES         1   \n212560    555493     23090       VINTAGE GLASS T-LIGHT HOLDER        36   \n142759    548636     21519    GIN & TONIC DIET GREETING CARD         12   \n250908    559051     22815            CARD PSYCHEDELIC APPLES         3   \n\n             InvoiceDate  UnitPrice  CustomerID         Country  \n47571     1/7/2011 11:04      20.38         NaN  United Kingdom  \n182369   5/10/2011 10:20       1.65     16841.0  United Kingdom  \n128334   3/22/2011 10:44       4.95     13869.0  United Kingdom  \n410492  10/20/2011 15:57       0.83     17571.0  United Kingdom  \n200324    5/23/2011 8:52       8.95     13885.0  United Kingdom  \n474392  11/16/2011 15:23       3.29         NaN  United Kingdom  \n325794    9/4/2011 16:12       0.55     16629.0  United Kingdom  \n212560    6/3/2011 14:26       0.83     13695.0  United Kingdom  \n142759    4/1/2011 12:29       0.42     15601.0  United Kingdom  \n250908    7/5/2011 16:47       0.42         NaN  United Kingdom  ",
      "text/html": "<div>\n<style scoped>\n    .dataframe tbody tr th:only-of-type {\n        vertical-align: middle;\n    }\n\n    .dataframe tbody tr th {\n        vertical-align: top;\n    }\n\n    .dataframe thead th {\n        text-align: right;\n    }\n</style>\n<table border=\"1\" class=\"dataframe\">\n  <thead>\n    <tr style=\"text-align: right;\">\n      <th></th>\n      <th>InvoiceNo</th>\n      <th>StockCode</th>\n      <th>Description</th>\n      <th>Quantity</th>\n      <th>InvoiceDate</th>\n      <th>UnitPrice</th>\n      <th>CustomerID</th>\n      <th>Country</th>\n    </tr>\n  </thead>\n  <tbody>\n    <tr>\n      <th>47571</th>\n      <td>540418</td>\n      <td>21623</td>\n      <td>VINTAGE UNION JACK MEMOBOARD</td>\n      <td>1</td>\n      <td>1/7/2011 11:04</td>\n      <td>20.38</td>\n      <td>NaN</td>\n      <td>United Kingdom</td>\n    </tr>\n    <tr>\n      <th>182369</th>\n      <td>552542</td>\n      <td>21933</td>\n      <td>PINK VINTAGE PAISLEY PICNIC BAG</td>\n      <td>10</td>\n      <td>5/10/2011 10:20</td>\n      <td>1.65</td>\n      <td>16841.0</td>\n      <td>United Kingdom</td>\n    </tr>\n    <tr>\n      <th>128334</th>\n      <td>547253</td>\n      <td>22425</td>\n      <td>ENAMEL COLANDER CREAM</td>\n      <td>2</td>\n      <td>3/22/2011 10:44</td>\n      <td>4.95</td>\n      <td>13869.0</td>\n      <td>United Kingdom</td>\n    </tr>\n    <tr>\n      <th>410492</th>\n      <td>572103</td>\n      <td>22209</td>\n      <td>WOOD STAMP SET HAPPY BIRTHDAY</td>\n      <td>1</td>\n      <td>10/20/2011 15:57</td>\n      <td>0.83</td>\n      <td>17571.0</td>\n      <td>United Kingdom</td>\n    </tr>\n    <tr>\n      <th>200324</th>\n      <td>554125</td>\n      <td>82486</td>\n      <td>WOOD S/3 CABINET ANT WHITE FINISH</td>\n      <td>2</td>\n      <td>5/23/2011 8:52</td>\n      <td>8.95</td>\n      <td>13885.0</td>\n      <td>United Kingdom</td>\n    </tr>\n    <tr>\n      <th>474392</th>\n      <td>576840</td>\n      <td>23198</td>\n      <td>PANTRY MAGNETIC  SHOPPING LIST</td>\n      <td>1</td>\n      <td>11/16/2011 15:23</td>\n      <td>3.29</td>\n      <td>NaN</td>\n      <td>United Kingdom</td>\n    </tr>\n    <tr>\n      <th>325794</th>\n      <td>565456</td>\n      <td>84991</td>\n      <td>60 TEATIME FAIRY CAKE CASES</td>\n      <td>1</td>\n      <td>9/4/2011 16:12</td>\n      <td>0.55</td>\n      <td>16629.0</td>\n      <td>United Kingdom</td>\n    </tr>\n    <tr>\n      <th>212560</th>\n      <td>555493</td>\n      <td>23090</td>\n      <td>VINTAGE GLASS T-LIGHT HOLDER</td>\n      <td>36</td>\n      <td>6/3/2011 14:26</td>\n      <td>0.83</td>\n      <td>13695.0</td>\n      <td>United Kingdom</td>\n    </tr>\n    <tr>\n      <th>142759</th>\n      <td>548636</td>\n      <td>21519</td>\n      <td>GIN &amp; TONIC DIET GREETING CARD</td>\n      <td>12</td>\n      <td>4/1/2011 12:29</td>\n      <td>0.42</td>\n      <td>15601.0</td>\n      <td>United Kingdom</td>\n    </tr>\n    <tr>\n      <th>250908</th>\n      <td>559051</td>\n      <td>22815</td>\n      <td>CARD PSYCHEDELIC APPLES</td>\n      <td>3</td>\n      <td>7/5/2011 16:47</td>\n      <td>0.42</td>\n      <td>NaN</td>\n      <td>United Kingdom</td>\n    </tr>\n  </tbody>\n</table>\n</div>"
     },
     "execution_count": 153,
     "metadata": {},
     "output_type": "execute_result"
    }
   ],
   "source": [
    "original_data.sample(10)   #抽样检查"
   ],
   "metadata": {
    "collapsed": false,
    "ExecuteTime": {
     "end_time": "2023-11-08T14:04:53.186727Z",
     "start_time": "2023-11-08T14:04:53.116397Z"
    }
   }
  },
  {
   "cell_type": "code",
   "execution_count": 154,
   "outputs": [
    {
     "name": "stdout",
     "output_type": "stream",
     "text": [
      "<class 'pandas.core.frame.DataFrame'>\n",
      "RangeIndex: 541909 entries, 0 to 541908\n",
      "Data columns (total 8 columns):\n",
      " #   Column       Non-Null Count   Dtype  \n",
      "---  ------       --------------   -----  \n",
      " 0   InvoiceNo    541909 non-null  object \n",
      " 1   StockCode    541909 non-null  object \n",
      " 2   Description  540455 non-null  object \n",
      " 3   Quantity     541909 non-null  int64  \n",
      " 4   InvoiceDate  541909 non-null  object \n",
      " 5   UnitPrice    541909 non-null  float64\n",
      " 6   CustomerID   406829 non-null  float64\n",
      " 7   Country      541909 non-null  object \n",
      "dtypes: float64(2), int64(1), object(5)\n",
      "memory usage: 33.1+ MB\n"
     ]
    }
   ],
   "source": [
    "original_data.info() "
   ],
   "metadata": {
    "collapsed": false,
    "ExecuteTime": {
     "end_time": "2023-11-08T14:04:53.195072Z",
     "start_time": "2023-11-08T14:04:53.154152Z"
    }
   }
  },
  {
   "cell_type": "code",
   "execution_count": 155,
   "outputs": [
    {
     "data": {
      "text/plain": "       InvoiceNo StockCode Description  Quantity      InvoiceDate  UnitPrice  \\\n622       536414     22139         NaN        56  12/1/2010 11:52        0.0   \n1970      536545     21134         NaN         1  12/1/2010 14:32        0.0   \n1971      536546     22145         NaN         1  12/1/2010 14:33        0.0   \n1972      536547     37509         NaN         1  12/1/2010 14:33        0.0   \n1987      536549    85226A         NaN         1  12/1/2010 14:34        0.0   \n...          ...       ...         ...       ...              ...        ...   \n535322    581199     84581         NaN        -2  12/7/2011 18:26        0.0   \n535326    581203     23406         NaN        15  12/7/2011 18:31        0.0   \n535332    581209     21620         NaN         6  12/7/2011 18:35        0.0   \n536981    581234     72817         NaN        27  12/8/2011 10:33        0.0   \n538554    581408     85175         NaN        20  12/8/2011 14:06        0.0   \n\n        CustomerID         Country  \n622            NaN  United Kingdom  \n1970           NaN  United Kingdom  \n1971           NaN  United Kingdom  \n1972           NaN  United Kingdom  \n1987           NaN  United Kingdom  \n...            ...             ...  \n535322         NaN  United Kingdom  \n535326         NaN  United Kingdom  \n535332         NaN  United Kingdom  \n536981         NaN  United Kingdom  \n538554         NaN  United Kingdom  \n\n[1454 rows x 8 columns]",
      "text/html": "<div>\n<style scoped>\n    .dataframe tbody tr th:only-of-type {\n        vertical-align: middle;\n    }\n\n    .dataframe tbody tr th {\n        vertical-align: top;\n    }\n\n    .dataframe thead th {\n        text-align: right;\n    }\n</style>\n<table border=\"1\" class=\"dataframe\">\n  <thead>\n    <tr style=\"text-align: right;\">\n      <th></th>\n      <th>InvoiceNo</th>\n      <th>StockCode</th>\n      <th>Description</th>\n      <th>Quantity</th>\n      <th>InvoiceDate</th>\n      <th>UnitPrice</th>\n      <th>CustomerID</th>\n      <th>Country</th>\n    </tr>\n  </thead>\n  <tbody>\n    <tr>\n      <th>622</th>\n      <td>536414</td>\n      <td>22139</td>\n      <td>NaN</td>\n      <td>56</td>\n      <td>12/1/2010 11:52</td>\n      <td>0.0</td>\n      <td>NaN</td>\n      <td>United Kingdom</td>\n    </tr>\n    <tr>\n      <th>1970</th>\n      <td>536545</td>\n      <td>21134</td>\n      <td>NaN</td>\n      <td>1</td>\n      <td>12/1/2010 14:32</td>\n      <td>0.0</td>\n      <td>NaN</td>\n      <td>United Kingdom</td>\n    </tr>\n    <tr>\n      <th>1971</th>\n      <td>536546</td>\n      <td>22145</td>\n      <td>NaN</td>\n      <td>1</td>\n      <td>12/1/2010 14:33</td>\n      <td>0.0</td>\n      <td>NaN</td>\n      <td>United Kingdom</td>\n    </tr>\n    <tr>\n      <th>1972</th>\n      <td>536547</td>\n      <td>37509</td>\n      <td>NaN</td>\n      <td>1</td>\n      <td>12/1/2010 14:33</td>\n      <td>0.0</td>\n      <td>NaN</td>\n      <td>United Kingdom</td>\n    </tr>\n    <tr>\n      <th>1987</th>\n      <td>536549</td>\n      <td>85226A</td>\n      <td>NaN</td>\n      <td>1</td>\n      <td>12/1/2010 14:34</td>\n      <td>0.0</td>\n      <td>NaN</td>\n      <td>United Kingdom</td>\n    </tr>\n    <tr>\n      <th>...</th>\n      <td>...</td>\n      <td>...</td>\n      <td>...</td>\n      <td>...</td>\n      <td>...</td>\n      <td>...</td>\n      <td>...</td>\n      <td>...</td>\n    </tr>\n    <tr>\n      <th>535322</th>\n      <td>581199</td>\n      <td>84581</td>\n      <td>NaN</td>\n      <td>-2</td>\n      <td>12/7/2011 18:26</td>\n      <td>0.0</td>\n      <td>NaN</td>\n      <td>United Kingdom</td>\n    </tr>\n    <tr>\n      <th>535326</th>\n      <td>581203</td>\n      <td>23406</td>\n      <td>NaN</td>\n      <td>15</td>\n      <td>12/7/2011 18:31</td>\n      <td>0.0</td>\n      <td>NaN</td>\n      <td>United Kingdom</td>\n    </tr>\n    <tr>\n      <th>535332</th>\n      <td>581209</td>\n      <td>21620</td>\n      <td>NaN</td>\n      <td>6</td>\n      <td>12/7/2011 18:35</td>\n      <td>0.0</td>\n      <td>NaN</td>\n      <td>United Kingdom</td>\n    </tr>\n    <tr>\n      <th>536981</th>\n      <td>581234</td>\n      <td>72817</td>\n      <td>NaN</td>\n      <td>27</td>\n      <td>12/8/2011 10:33</td>\n      <td>0.0</td>\n      <td>NaN</td>\n      <td>United Kingdom</td>\n    </tr>\n    <tr>\n      <th>538554</th>\n      <td>581408</td>\n      <td>85175</td>\n      <td>NaN</td>\n      <td>20</td>\n      <td>12/8/2011 14:06</td>\n      <td>0.0</td>\n      <td>NaN</td>\n      <td>United Kingdom</td>\n    </tr>\n  </tbody>\n</table>\n<p>1454 rows × 8 columns</p>\n</div>"
     },
     "execution_count": 155,
     "metadata": {},
     "output_type": "execute_result"
    }
   ],
   "source": [
    "original_data[original_data[\"Description\"].isnull()]"
   ],
   "metadata": {
    "collapsed": false,
    "ExecuteTime": {
     "end_time": "2023-11-08T14:04:53.211157Z",
     "start_time": "2023-11-08T14:04:53.192378Z"
    }
   }
  },
  {
   "cell_type": "code",
   "execution_count": 156,
   "metadata": {
    "ExecuteTime": {
     "end_time": "2023-11-08T14:04:53.240244Z",
     "start_time": "2023-11-08T14:04:53.209096Z"
    }
   },
   "outputs": [
    {
     "data": {
      "text/plain": "Empty DataFrame\nColumns: [InvoiceNo, StockCode, Description, Quantity, InvoiceDate, UnitPrice, CustomerID, Country]\nIndex: []",
      "text/html": "<div>\n<style scoped>\n    .dataframe tbody tr th:only-of-type {\n        vertical-align: middle;\n    }\n\n    .dataframe tbody tr th {\n        vertical-align: top;\n    }\n\n    .dataframe thead th {\n        text-align: right;\n    }\n</style>\n<table border=\"1\" class=\"dataframe\">\n  <thead>\n    <tr style=\"text-align: right;\">\n      <th></th>\n      <th>InvoiceNo</th>\n      <th>StockCode</th>\n      <th>Description</th>\n      <th>Quantity</th>\n      <th>InvoiceDate</th>\n      <th>UnitPrice</th>\n      <th>CustomerID</th>\n      <th>Country</th>\n    </tr>\n  </thead>\n  <tbody>\n  </tbody>\n</table>\n</div>"
     },
     "execution_count": 156,
     "metadata": {},
     "output_type": "execute_result"
    }
   ],
   "source": [
    "original_data[(original_data[\"Description\"].isnull()) & (original_data[\"UnitPrice\"] != 0)]"
   ]
  },
  {
   "cell_type": "code",
   "execution_count": 157,
   "outputs": [
    {
     "data": {
      "text/plain": "       InvoiceNo StockCode                      Description  Quantity  \\\n622       536414     22139                              NaN        56   \n1443      536544     21773  DECORATIVE ROSE BATHROOM BOTTLE         1   \n1444      536544     21774  DECORATIVE CATS BATHROOM BOTTLE         2   \n1445      536544     21786               POLKADOT RAIN HAT          4   \n1446      536544     21787            RAIN PONCHO RETROSPOT         2   \n...          ...       ...                              ...       ...   \n541536    581498    85099B          JUMBO BAG RED RETROSPOT         5   \n541537    581498    85099C   JUMBO  BAG BAROQUE BLACK WHITE         4   \n541538    581498     85150    LADIES & GENTLEMEN METAL SIGN         1   \n541539    581498     85174                S/4 CACTI CANDLES         1   \n541540    581498       DOT                   DOTCOM POSTAGE         1   \n\n            InvoiceDate  UnitPrice  CustomerID         Country  \n622     12/1/2010 11:52       0.00         NaN  United Kingdom  \n1443    12/1/2010 14:32       2.51         NaN  United Kingdom  \n1444    12/1/2010 14:32       2.51         NaN  United Kingdom  \n1445    12/1/2010 14:32       0.85         NaN  United Kingdom  \n1446    12/1/2010 14:32       1.66         NaN  United Kingdom  \n...                 ...        ...         ...             ...  \n541536  12/9/2011 10:26       4.13         NaN  United Kingdom  \n541537  12/9/2011 10:26       4.13         NaN  United Kingdom  \n541538  12/9/2011 10:26       4.96         NaN  United Kingdom  \n541539  12/9/2011 10:26      10.79         NaN  United Kingdom  \n541540  12/9/2011 10:26    1714.17         NaN  United Kingdom  \n\n[135080 rows x 8 columns]",
      "text/html": "<div>\n<style scoped>\n    .dataframe tbody tr th:only-of-type {\n        vertical-align: middle;\n    }\n\n    .dataframe tbody tr th {\n        vertical-align: top;\n    }\n\n    .dataframe thead th {\n        text-align: right;\n    }\n</style>\n<table border=\"1\" class=\"dataframe\">\n  <thead>\n    <tr style=\"text-align: right;\">\n      <th></th>\n      <th>InvoiceNo</th>\n      <th>StockCode</th>\n      <th>Description</th>\n      <th>Quantity</th>\n      <th>InvoiceDate</th>\n      <th>UnitPrice</th>\n      <th>CustomerID</th>\n      <th>Country</th>\n    </tr>\n  </thead>\n  <tbody>\n    <tr>\n      <th>622</th>\n      <td>536414</td>\n      <td>22139</td>\n      <td>NaN</td>\n      <td>56</td>\n      <td>12/1/2010 11:52</td>\n      <td>0.00</td>\n      <td>NaN</td>\n      <td>United Kingdom</td>\n    </tr>\n    <tr>\n      <th>1443</th>\n      <td>536544</td>\n      <td>21773</td>\n      <td>DECORATIVE ROSE BATHROOM BOTTLE</td>\n      <td>1</td>\n      <td>12/1/2010 14:32</td>\n      <td>2.51</td>\n      <td>NaN</td>\n      <td>United Kingdom</td>\n    </tr>\n    <tr>\n      <th>1444</th>\n      <td>536544</td>\n      <td>21774</td>\n      <td>DECORATIVE CATS BATHROOM BOTTLE</td>\n      <td>2</td>\n      <td>12/1/2010 14:32</td>\n      <td>2.51</td>\n      <td>NaN</td>\n      <td>United Kingdom</td>\n    </tr>\n    <tr>\n      <th>1445</th>\n      <td>536544</td>\n      <td>21786</td>\n      <td>POLKADOT RAIN HAT</td>\n      <td>4</td>\n      <td>12/1/2010 14:32</td>\n      <td>0.85</td>\n      <td>NaN</td>\n      <td>United Kingdom</td>\n    </tr>\n    <tr>\n      <th>1446</th>\n      <td>536544</td>\n      <td>21787</td>\n      <td>RAIN PONCHO RETROSPOT</td>\n      <td>2</td>\n      <td>12/1/2010 14:32</td>\n      <td>1.66</td>\n      <td>NaN</td>\n      <td>United Kingdom</td>\n    </tr>\n    <tr>\n      <th>...</th>\n      <td>...</td>\n      <td>...</td>\n      <td>...</td>\n      <td>...</td>\n      <td>...</td>\n      <td>...</td>\n      <td>...</td>\n      <td>...</td>\n    </tr>\n    <tr>\n      <th>541536</th>\n      <td>581498</td>\n      <td>85099B</td>\n      <td>JUMBO BAG RED RETROSPOT</td>\n      <td>5</td>\n      <td>12/9/2011 10:26</td>\n      <td>4.13</td>\n      <td>NaN</td>\n      <td>United Kingdom</td>\n    </tr>\n    <tr>\n      <th>541537</th>\n      <td>581498</td>\n      <td>85099C</td>\n      <td>JUMBO  BAG BAROQUE BLACK WHITE</td>\n      <td>4</td>\n      <td>12/9/2011 10:26</td>\n      <td>4.13</td>\n      <td>NaN</td>\n      <td>United Kingdom</td>\n    </tr>\n    <tr>\n      <th>541538</th>\n      <td>581498</td>\n      <td>85150</td>\n      <td>LADIES &amp; GENTLEMEN METAL SIGN</td>\n      <td>1</td>\n      <td>12/9/2011 10:26</td>\n      <td>4.96</td>\n      <td>NaN</td>\n      <td>United Kingdom</td>\n    </tr>\n    <tr>\n      <th>541539</th>\n      <td>581498</td>\n      <td>85174</td>\n      <td>S/4 CACTI CANDLES</td>\n      <td>1</td>\n      <td>12/9/2011 10:26</td>\n      <td>10.79</td>\n      <td>NaN</td>\n      <td>United Kingdom</td>\n    </tr>\n    <tr>\n      <th>541540</th>\n      <td>581498</td>\n      <td>DOT</td>\n      <td>DOTCOM POSTAGE</td>\n      <td>1</td>\n      <td>12/9/2011 10:26</td>\n      <td>1714.17</td>\n      <td>NaN</td>\n      <td>United Kingdom</td>\n    </tr>\n  </tbody>\n</table>\n<p>135080 rows × 8 columns</p>\n</div>"
     },
     "execution_count": 157,
     "metadata": {},
     "output_type": "execute_result"
    }
   ],
   "source": [
    "original_data[original_data[\"CustomerID\"].isnull()]"
   ],
   "metadata": {
    "collapsed": false,
    "ExecuteTime": {
     "end_time": "2023-11-08T14:04:53.272324Z",
     "start_time": "2023-11-08T14:04:53.213832Z"
    }
   }
  },
  {
   "cell_type": "code",
   "execution_count": 158,
   "outputs": [
    {
     "data": {
      "text/plain": "Country\nUnited Kingdom          495266\nGermany                   9495\nFrance                    8557\nEIRE                      8196\nSpain                     2533\nNetherlands               2371\nBelgium                   2069\nSwitzerland               2002\nPortugal                  1519\nAustralia                 1259\nNorway                    1086\nItaly                      803\nChannel Islands            758\nFinland                    695\nCyprus                     622\nSweden                     462\nUnspecified                446\nAustria                    401\nDenmark                    389\nJapan                      358\nPoland                     341\nIsrael                     297\nChina                      288\nSingapore                  229\nUSA                        218\nUK                         211\nIceland                    182\nCanada                     151\nGreece                     146\nMalta                      127\nUnited States               73\nUnited Arab Emirates        68\nEuropean Community          61\nRSA                         58\nLebanon                     45\nLithuania                   35\nBrazil                      32\nCzech Republic              30\nBahrain                     19\nSaudi Arabia                10\nU.K.                         1\nName: count, dtype: int64"
     },
     "execution_count": 158,
     "metadata": {},
     "output_type": "execute_result"
    }
   ],
   "source": [
    "original_data[\"Country\"].value_counts()"
   ],
   "metadata": {
    "collapsed": false,
    "ExecuteTime": {
     "end_time": "2023-11-08T14:04:53.276758Z",
     "start_time": "2023-11-08T14:04:53.242802Z"
    }
   }
  },
  {
   "cell_type": "code",
   "execution_count": 159,
   "outputs": [
    {
     "data": {
      "text/plain": "            Quantity      UnitPrice     CustomerID\ncount  541909.000000  541909.000000  406829.000000\nmean        9.552250       4.611114   15287.690570\nstd       218.081158      96.759853    1713.600303\nmin    -80995.000000  -11062.060000   12346.000000\n25%         1.000000       1.250000   13953.000000\n50%         3.000000       2.080000   15152.000000\n75%        10.000000       4.130000   16791.000000\nmax     80995.000000   38970.000000   18287.000000",
      "text/html": "<div>\n<style scoped>\n    .dataframe tbody tr th:only-of-type {\n        vertical-align: middle;\n    }\n\n    .dataframe tbody tr th {\n        vertical-align: top;\n    }\n\n    .dataframe thead th {\n        text-align: right;\n    }\n</style>\n<table border=\"1\" class=\"dataframe\">\n  <thead>\n    <tr style=\"text-align: right;\">\n      <th></th>\n      <th>Quantity</th>\n      <th>UnitPrice</th>\n      <th>CustomerID</th>\n    </tr>\n  </thead>\n  <tbody>\n    <tr>\n      <th>count</th>\n      <td>541909.000000</td>\n      <td>541909.000000</td>\n      <td>406829.000000</td>\n    </tr>\n    <tr>\n      <th>mean</th>\n      <td>9.552250</td>\n      <td>4.611114</td>\n      <td>15287.690570</td>\n    </tr>\n    <tr>\n      <th>std</th>\n      <td>218.081158</td>\n      <td>96.759853</td>\n      <td>1713.600303</td>\n    </tr>\n    <tr>\n      <th>min</th>\n      <td>-80995.000000</td>\n      <td>-11062.060000</td>\n      <td>12346.000000</td>\n    </tr>\n    <tr>\n      <th>25%</th>\n      <td>1.000000</td>\n      <td>1.250000</td>\n      <td>13953.000000</td>\n    </tr>\n    <tr>\n      <th>50%</th>\n      <td>3.000000</td>\n      <td>2.080000</td>\n      <td>15152.000000</td>\n    </tr>\n    <tr>\n      <th>75%</th>\n      <td>10.000000</td>\n      <td>4.130000</td>\n      <td>16791.000000</td>\n    </tr>\n    <tr>\n      <th>max</th>\n      <td>80995.000000</td>\n      <td>38970.000000</td>\n      <td>18287.000000</td>\n    </tr>\n  </tbody>\n</table>\n</div>"
     },
     "execution_count": 159,
     "metadata": {},
     "output_type": "execute_result"
    }
   ],
   "source": [
    "original_data.describe()"
   ],
   "metadata": {
    "collapsed": false,
    "ExecuteTime": {
     "end_time": "2023-11-08T14:04:53.294905Z",
     "start_time": "2023-11-08T14:04:53.245438Z"
    }
   }
  },
  {
   "cell_type": "code",
   "execution_count": 160,
   "outputs": [
    {
     "data": {
      "text/plain": "       InvoiceNo StockCode                       Description  Quantity  \\\n141      C536379         D                          Discount        -1   \n154      C536383    35004C   SET OF 3 COLOURED  FLYING DUCKS        -1   \n235      C536391     22556    PLASTERS IN TIN CIRCUS PARADE        -12   \n236      C536391     21984  PACK OF 12 PINK PAISLEY TISSUES        -24   \n237      C536391     21983  PACK OF 12 BLUE PAISLEY TISSUES        -24   \n...          ...       ...                               ...       ...   \n540449   C581490     23144   ZINC T-LIGHT HOLDER STARS SMALL       -11   \n541541   C581499         M                            Manual        -1   \n541715   C581568     21258        VICTORIAN SEWING BOX LARGE        -5   \n541716   C581569     84978  HANGING HEART JAR T-LIGHT HOLDER        -1   \n541717   C581569     20979     36 PENCILS TUBE RED RETROSPOT        -5   \n\n            InvoiceDate  UnitPrice  CustomerID         Country  \n141      12/1/2010 9:41      27.50     14527.0  United Kingdom  \n154      12/1/2010 9:49       4.65     15311.0  United Kingdom  \n235     12/1/2010 10:24       1.65     17548.0  United Kingdom  \n236     12/1/2010 10:24       0.29     17548.0  United Kingdom  \n237     12/1/2010 10:24       0.29     17548.0  United Kingdom  \n...                 ...        ...         ...             ...  \n540449   12/9/2011 9:57       0.83     14397.0  United Kingdom  \n541541  12/9/2011 10:28     224.69     15498.0  United Kingdom  \n541715  12/9/2011 11:57      10.95     15311.0  United Kingdom  \n541716  12/9/2011 11:58       1.25     17315.0  United Kingdom  \n541717  12/9/2011 11:58       1.25     17315.0  United Kingdom  \n\n[10624 rows x 8 columns]",
      "text/html": "<div>\n<style scoped>\n    .dataframe tbody tr th:only-of-type {\n        vertical-align: middle;\n    }\n\n    .dataframe tbody tr th {\n        vertical-align: top;\n    }\n\n    .dataframe thead th {\n        text-align: right;\n    }\n</style>\n<table border=\"1\" class=\"dataframe\">\n  <thead>\n    <tr style=\"text-align: right;\">\n      <th></th>\n      <th>InvoiceNo</th>\n      <th>StockCode</th>\n      <th>Description</th>\n      <th>Quantity</th>\n      <th>InvoiceDate</th>\n      <th>UnitPrice</th>\n      <th>CustomerID</th>\n      <th>Country</th>\n    </tr>\n  </thead>\n  <tbody>\n    <tr>\n      <th>141</th>\n      <td>C536379</td>\n      <td>D</td>\n      <td>Discount</td>\n      <td>-1</td>\n      <td>12/1/2010 9:41</td>\n      <td>27.50</td>\n      <td>14527.0</td>\n      <td>United Kingdom</td>\n    </tr>\n    <tr>\n      <th>154</th>\n      <td>C536383</td>\n      <td>35004C</td>\n      <td>SET OF 3 COLOURED  FLYING DUCKS</td>\n      <td>-1</td>\n      <td>12/1/2010 9:49</td>\n      <td>4.65</td>\n      <td>15311.0</td>\n      <td>United Kingdom</td>\n    </tr>\n    <tr>\n      <th>235</th>\n      <td>C536391</td>\n      <td>22556</td>\n      <td>PLASTERS IN TIN CIRCUS PARADE</td>\n      <td>-12</td>\n      <td>12/1/2010 10:24</td>\n      <td>1.65</td>\n      <td>17548.0</td>\n      <td>United Kingdom</td>\n    </tr>\n    <tr>\n      <th>236</th>\n      <td>C536391</td>\n      <td>21984</td>\n      <td>PACK OF 12 PINK PAISLEY TISSUES</td>\n      <td>-24</td>\n      <td>12/1/2010 10:24</td>\n      <td>0.29</td>\n      <td>17548.0</td>\n      <td>United Kingdom</td>\n    </tr>\n    <tr>\n      <th>237</th>\n      <td>C536391</td>\n      <td>21983</td>\n      <td>PACK OF 12 BLUE PAISLEY TISSUES</td>\n      <td>-24</td>\n      <td>12/1/2010 10:24</td>\n      <td>0.29</td>\n      <td>17548.0</td>\n      <td>United Kingdom</td>\n    </tr>\n    <tr>\n      <th>...</th>\n      <td>...</td>\n      <td>...</td>\n      <td>...</td>\n      <td>...</td>\n      <td>...</td>\n      <td>...</td>\n      <td>...</td>\n      <td>...</td>\n    </tr>\n    <tr>\n      <th>540449</th>\n      <td>C581490</td>\n      <td>23144</td>\n      <td>ZINC T-LIGHT HOLDER STARS SMALL</td>\n      <td>-11</td>\n      <td>12/9/2011 9:57</td>\n      <td>0.83</td>\n      <td>14397.0</td>\n      <td>United Kingdom</td>\n    </tr>\n    <tr>\n      <th>541541</th>\n      <td>C581499</td>\n      <td>M</td>\n      <td>Manual</td>\n      <td>-1</td>\n      <td>12/9/2011 10:28</td>\n      <td>224.69</td>\n      <td>15498.0</td>\n      <td>United Kingdom</td>\n    </tr>\n    <tr>\n      <th>541715</th>\n      <td>C581568</td>\n      <td>21258</td>\n      <td>VICTORIAN SEWING BOX LARGE</td>\n      <td>-5</td>\n      <td>12/9/2011 11:57</td>\n      <td>10.95</td>\n      <td>15311.0</td>\n      <td>United Kingdom</td>\n    </tr>\n    <tr>\n      <th>541716</th>\n      <td>C581569</td>\n      <td>84978</td>\n      <td>HANGING HEART JAR T-LIGHT HOLDER</td>\n      <td>-1</td>\n      <td>12/9/2011 11:58</td>\n      <td>1.25</td>\n      <td>17315.0</td>\n      <td>United Kingdom</td>\n    </tr>\n    <tr>\n      <th>541717</th>\n      <td>C581569</td>\n      <td>20979</td>\n      <td>36 PENCILS TUBE RED RETROSPOT</td>\n      <td>-5</td>\n      <td>12/9/2011 11:58</td>\n      <td>1.25</td>\n      <td>17315.0</td>\n      <td>United Kingdom</td>\n    </tr>\n  </tbody>\n</table>\n<p>10624 rows × 8 columns</p>\n</div>"
     },
     "execution_count": 160,
     "metadata": {},
     "output_type": "execute_result"
    }
   ],
   "source": [
    "original_data[original_data[\"Quantity\"] < 0]"
   ],
   "metadata": {
    "collapsed": false,
    "ExecuteTime": {
     "end_time": "2023-11-08T14:04:53.327612Z",
     "start_time": "2023-11-08T14:04:53.287820Z"
    }
   }
  },
  {
   "cell_type": "code",
   "execution_count": 161,
   "outputs": [
    {
     "data": {
      "text/plain": "       InvoiceNo StockCode Description  Quantity      InvoiceDate  UnitPrice  \\\n2406      536589     21777         NaN       -10  12/1/2010 16:50        0.0   \n4347      536764    84952C         NaN       -38  12/2/2010 14:42        0.0   \n7188      536996     22712         NaN       -20  12/3/2010 15:30        0.0   \n7189      536997     22028         NaN       -20  12/3/2010 15:30        0.0   \n7190      536998     85067         NaN        -6  12/3/2010 15:30        0.0   \n...          ...       ...         ...       ...              ...        ...   \n535333    581210     23395       check       -26  12/7/2011 18:36        0.0   \n535335    581212     22578        lost     -1050  12/7/2011 18:38        0.0   \n535336    581213     22576       check       -30  12/7/2011 18:38        0.0   \n536908    581226     23090     missing      -338   12/8/2011 9:56        0.0   \n538919    581422     23169     smashed      -235  12/8/2011 15:24        0.0   \n\n        CustomerID         Country  \n2406           NaN  United Kingdom  \n4347           NaN  United Kingdom  \n7188           NaN  United Kingdom  \n7189           NaN  United Kingdom  \n7190           NaN  United Kingdom  \n...            ...             ...  \n535333         NaN  United Kingdom  \n535335         NaN  United Kingdom  \n535336         NaN  United Kingdom  \n536908         NaN  United Kingdom  \n538919         NaN  United Kingdom  \n\n[1336 rows x 8 columns]",
      "text/html": "<div>\n<style scoped>\n    .dataframe tbody tr th:only-of-type {\n        vertical-align: middle;\n    }\n\n    .dataframe tbody tr th {\n        vertical-align: top;\n    }\n\n    .dataframe thead th {\n        text-align: right;\n    }\n</style>\n<table border=\"1\" class=\"dataframe\">\n  <thead>\n    <tr style=\"text-align: right;\">\n      <th></th>\n      <th>InvoiceNo</th>\n      <th>StockCode</th>\n      <th>Description</th>\n      <th>Quantity</th>\n      <th>InvoiceDate</th>\n      <th>UnitPrice</th>\n      <th>CustomerID</th>\n      <th>Country</th>\n    </tr>\n  </thead>\n  <tbody>\n    <tr>\n      <th>2406</th>\n      <td>536589</td>\n      <td>21777</td>\n      <td>NaN</td>\n      <td>-10</td>\n      <td>12/1/2010 16:50</td>\n      <td>0.0</td>\n      <td>NaN</td>\n      <td>United Kingdom</td>\n    </tr>\n    <tr>\n      <th>4347</th>\n      <td>536764</td>\n      <td>84952C</td>\n      <td>NaN</td>\n      <td>-38</td>\n      <td>12/2/2010 14:42</td>\n      <td>0.0</td>\n      <td>NaN</td>\n      <td>United Kingdom</td>\n    </tr>\n    <tr>\n      <th>7188</th>\n      <td>536996</td>\n      <td>22712</td>\n      <td>NaN</td>\n      <td>-20</td>\n      <td>12/3/2010 15:30</td>\n      <td>0.0</td>\n      <td>NaN</td>\n      <td>United Kingdom</td>\n    </tr>\n    <tr>\n      <th>7189</th>\n      <td>536997</td>\n      <td>22028</td>\n      <td>NaN</td>\n      <td>-20</td>\n      <td>12/3/2010 15:30</td>\n      <td>0.0</td>\n      <td>NaN</td>\n      <td>United Kingdom</td>\n    </tr>\n    <tr>\n      <th>7190</th>\n      <td>536998</td>\n      <td>85067</td>\n      <td>NaN</td>\n      <td>-6</td>\n      <td>12/3/2010 15:30</td>\n      <td>0.0</td>\n      <td>NaN</td>\n      <td>United Kingdom</td>\n    </tr>\n    <tr>\n      <th>...</th>\n      <td>...</td>\n      <td>...</td>\n      <td>...</td>\n      <td>...</td>\n      <td>...</td>\n      <td>...</td>\n      <td>...</td>\n      <td>...</td>\n    </tr>\n    <tr>\n      <th>535333</th>\n      <td>581210</td>\n      <td>23395</td>\n      <td>check</td>\n      <td>-26</td>\n      <td>12/7/2011 18:36</td>\n      <td>0.0</td>\n      <td>NaN</td>\n      <td>United Kingdom</td>\n    </tr>\n    <tr>\n      <th>535335</th>\n      <td>581212</td>\n      <td>22578</td>\n      <td>lost</td>\n      <td>-1050</td>\n      <td>12/7/2011 18:38</td>\n      <td>0.0</td>\n      <td>NaN</td>\n      <td>United Kingdom</td>\n    </tr>\n    <tr>\n      <th>535336</th>\n      <td>581213</td>\n      <td>22576</td>\n      <td>check</td>\n      <td>-30</td>\n      <td>12/7/2011 18:38</td>\n      <td>0.0</td>\n      <td>NaN</td>\n      <td>United Kingdom</td>\n    </tr>\n    <tr>\n      <th>536908</th>\n      <td>581226</td>\n      <td>23090</td>\n      <td>missing</td>\n      <td>-338</td>\n      <td>12/8/2011 9:56</td>\n      <td>0.0</td>\n      <td>NaN</td>\n      <td>United Kingdom</td>\n    </tr>\n    <tr>\n      <th>538919</th>\n      <td>581422</td>\n      <td>23169</td>\n      <td>smashed</td>\n      <td>-235</td>\n      <td>12/8/2011 15:24</td>\n      <td>0.0</td>\n      <td>NaN</td>\n      <td>United Kingdom</td>\n    </tr>\n  </tbody>\n</table>\n<p>1336 rows × 8 columns</p>\n</div>"
     },
     "execution_count": 161,
     "metadata": {},
     "output_type": "execute_result"
    }
   ],
   "source": [
    "original_data[(original_data[\"Quantity\"] < 0) & (original_data[\"InvoiceNo\"].str[0] != \"C\")]"
   ],
   "metadata": {
    "collapsed": false,
    "ExecuteTime": {
     "end_time": "2023-11-08T14:04:53.430325Z",
     "start_time": "2023-11-08T14:04:53.309113Z"
    }
   }
  },
  {
   "cell_type": "code",
   "execution_count": 162,
   "outputs": [
    {
     "data": {
      "text/plain": "Empty DataFrame\nColumns: [InvoiceNo, StockCode, Description, Quantity, InvoiceDate, UnitPrice, CustomerID, Country]\nIndex: []",
      "text/html": "<div>\n<style scoped>\n    .dataframe tbody tr th:only-of-type {\n        vertical-align: middle;\n    }\n\n    .dataframe tbody tr th {\n        vertical-align: top;\n    }\n\n    .dataframe thead th {\n        text-align: right;\n    }\n</style>\n<table border=\"1\" class=\"dataframe\">\n  <thead>\n    <tr style=\"text-align: right;\">\n      <th></th>\n      <th>InvoiceNo</th>\n      <th>StockCode</th>\n      <th>Description</th>\n      <th>Quantity</th>\n      <th>InvoiceDate</th>\n      <th>UnitPrice</th>\n      <th>CustomerID</th>\n      <th>Country</th>\n    </tr>\n  </thead>\n  <tbody>\n  </tbody>\n</table>\n</div>"
     },
     "execution_count": 162,
     "metadata": {},
     "output_type": "execute_result"
    }
   ],
   "source": [
    "original_data[(original_data[\"Quantity\"] < 0) & (original_data[\"InvoiceNo\"].str[0] != \"C\") & (original_data[\"UnitPrice\"] != 0) ]"
   ],
   "metadata": {
    "collapsed": false,
    "ExecuteTime": {
     "end_time": "2023-11-08T14:04:53.556177Z",
     "start_time": "2023-11-08T14:04:53.428469Z"
    }
   }
  },
  {
   "cell_type": "code",
   "execution_count": 163,
   "outputs": [
    {
     "data": {
      "text/plain": "       InvoiceNo StockCode      Description  Quantity      InvoiceDate  \\\n299983   A563186         B  Adjust bad debt         1  8/12/2011 14:51   \n299984   A563187         B  Adjust bad debt         1  8/12/2011 14:52   \n\n        UnitPrice  CustomerID         Country  \n299983  -11062.06         NaN  United Kingdom  \n299984  -11062.06         NaN  United Kingdom  ",
      "text/html": "<div>\n<style scoped>\n    .dataframe tbody tr th:only-of-type {\n        vertical-align: middle;\n    }\n\n    .dataframe tbody tr th {\n        vertical-align: top;\n    }\n\n    .dataframe thead th {\n        text-align: right;\n    }\n</style>\n<table border=\"1\" class=\"dataframe\">\n  <thead>\n    <tr style=\"text-align: right;\">\n      <th></th>\n      <th>InvoiceNo</th>\n      <th>StockCode</th>\n      <th>Description</th>\n      <th>Quantity</th>\n      <th>InvoiceDate</th>\n      <th>UnitPrice</th>\n      <th>CustomerID</th>\n      <th>Country</th>\n    </tr>\n  </thead>\n  <tbody>\n    <tr>\n      <th>299983</th>\n      <td>A563186</td>\n      <td>B</td>\n      <td>Adjust bad debt</td>\n      <td>1</td>\n      <td>8/12/2011 14:51</td>\n      <td>-11062.06</td>\n      <td>NaN</td>\n      <td>United Kingdom</td>\n    </tr>\n    <tr>\n      <th>299984</th>\n      <td>A563187</td>\n      <td>B</td>\n      <td>Adjust bad debt</td>\n      <td>1</td>\n      <td>8/12/2011 14:52</td>\n      <td>-11062.06</td>\n      <td>NaN</td>\n      <td>United Kingdom</td>\n    </tr>\n  </tbody>\n</table>\n</div>"
     },
     "execution_count": 163,
     "metadata": {},
     "output_type": "execute_result"
    }
   ],
   "source": [
    "original_data[original_data[\"UnitPrice\"] < 0 ]"
   ],
   "metadata": {
    "collapsed": false,
    "ExecuteTime": {
     "end_time": "2023-11-08T14:04:53.559980Z",
     "start_time": "2023-11-08T14:04:53.554272Z"
    }
   }
  },
  {
   "cell_type": "markdown",
   "source": [
    "## 清洗数据\n",
    "### InvoiceDate 数据转换为时间\n",
    "### CustomerID  数据类型变为字符串\n",
    "### Description 描述变量缺失的删除\n",
    "### Country     USA 换为 United States \n",
    "### Country     UK、U.K 换为 United Kingdom\n",
    "### Quantity    负的删除\n",
    "### UnitPrice   负的删除\n"
   ],
   "metadata": {
    "collapsed": false
   }
  },
  {
   "cell_type": "code",
   "execution_count": 164,
   "outputs": [
    {
     "data": {
      "text/plain": "       InvoiceNo StockCode                          Description  Quantity  \\\n0         536365    85123A   WHITE HANGING HEART T-LIGHT HOLDER         6   \n1         536365     71053                  WHITE METAL LANTERN         6   \n2         536365    84406B       CREAM CUPID HEARTS COAT HANGER         8   \n3         536365    84029G  KNITTED UNION FLAG HOT WATER BOTTLE         6   \n4         536365    84029E       RED WOOLLY HOTTIE WHITE HEART.         6   \n...          ...       ...                                  ...       ...   \n541904    581587     22613          PACK OF 20 SPACEBOY NAPKINS        12   \n541905    581587     22899         CHILDREN'S APRON DOLLY GIRL          6   \n541906    581587     23254        CHILDRENS CUTLERY DOLLY GIRL          4   \n541907    581587     23255      CHILDRENS CUTLERY CIRCUS PARADE         4   \n541908    581587     22138        BAKING SET 9 PIECE RETROSPOT          3   \n\n            InvoiceDate  UnitPrice  CustomerID         Country  \n0        12/1/2010 8:26       2.55     17850.0  United Kingdom  \n1        12/1/2010 8:26       3.39     17850.0  United Kingdom  \n2        12/1/2010 8:26       2.75     17850.0  United Kingdom  \n3        12/1/2010 8:26       3.39     17850.0  United Kingdom  \n4        12/1/2010 8:26       3.39     17850.0  United Kingdom  \n...                 ...        ...         ...             ...  \n541904  12/9/2011 12:50       0.85     12680.0          France  \n541905  12/9/2011 12:50       2.10     12680.0          France  \n541906  12/9/2011 12:50       4.15     12680.0          France  \n541907  12/9/2011 12:50       4.15     12680.0          France  \n541908  12/9/2011 12:50       4.95     12680.0          France  \n\n[541909 rows x 8 columns]",
      "text/html": "<div>\n<style scoped>\n    .dataframe tbody tr th:only-of-type {\n        vertical-align: middle;\n    }\n\n    .dataframe tbody tr th {\n        vertical-align: top;\n    }\n\n    .dataframe thead th {\n        text-align: right;\n    }\n</style>\n<table border=\"1\" class=\"dataframe\">\n  <thead>\n    <tr style=\"text-align: right;\">\n      <th></th>\n      <th>InvoiceNo</th>\n      <th>StockCode</th>\n      <th>Description</th>\n      <th>Quantity</th>\n      <th>InvoiceDate</th>\n      <th>UnitPrice</th>\n      <th>CustomerID</th>\n      <th>Country</th>\n    </tr>\n  </thead>\n  <tbody>\n    <tr>\n      <th>0</th>\n      <td>536365</td>\n      <td>85123A</td>\n      <td>WHITE HANGING HEART T-LIGHT HOLDER</td>\n      <td>6</td>\n      <td>12/1/2010 8:26</td>\n      <td>2.55</td>\n      <td>17850.0</td>\n      <td>United Kingdom</td>\n    </tr>\n    <tr>\n      <th>1</th>\n      <td>536365</td>\n      <td>71053</td>\n      <td>WHITE METAL LANTERN</td>\n      <td>6</td>\n      <td>12/1/2010 8:26</td>\n      <td>3.39</td>\n      <td>17850.0</td>\n      <td>United Kingdom</td>\n    </tr>\n    <tr>\n      <th>2</th>\n      <td>536365</td>\n      <td>84406B</td>\n      <td>CREAM CUPID HEARTS COAT HANGER</td>\n      <td>8</td>\n      <td>12/1/2010 8:26</td>\n      <td>2.75</td>\n      <td>17850.0</td>\n      <td>United Kingdom</td>\n    </tr>\n    <tr>\n      <th>3</th>\n      <td>536365</td>\n      <td>84029G</td>\n      <td>KNITTED UNION FLAG HOT WATER BOTTLE</td>\n      <td>6</td>\n      <td>12/1/2010 8:26</td>\n      <td>3.39</td>\n      <td>17850.0</td>\n      <td>United Kingdom</td>\n    </tr>\n    <tr>\n      <th>4</th>\n      <td>536365</td>\n      <td>84029E</td>\n      <td>RED WOOLLY HOTTIE WHITE HEART.</td>\n      <td>6</td>\n      <td>12/1/2010 8:26</td>\n      <td>3.39</td>\n      <td>17850.0</td>\n      <td>United Kingdom</td>\n    </tr>\n    <tr>\n      <th>...</th>\n      <td>...</td>\n      <td>...</td>\n      <td>...</td>\n      <td>...</td>\n      <td>...</td>\n      <td>...</td>\n      <td>...</td>\n      <td>...</td>\n    </tr>\n    <tr>\n      <th>541904</th>\n      <td>581587</td>\n      <td>22613</td>\n      <td>PACK OF 20 SPACEBOY NAPKINS</td>\n      <td>12</td>\n      <td>12/9/2011 12:50</td>\n      <td>0.85</td>\n      <td>12680.0</td>\n      <td>France</td>\n    </tr>\n    <tr>\n      <th>541905</th>\n      <td>581587</td>\n      <td>22899</td>\n      <td>CHILDREN'S APRON DOLLY GIRL</td>\n      <td>6</td>\n      <td>12/9/2011 12:50</td>\n      <td>2.10</td>\n      <td>12680.0</td>\n      <td>France</td>\n    </tr>\n    <tr>\n      <th>541906</th>\n      <td>581587</td>\n      <td>23254</td>\n      <td>CHILDRENS CUTLERY DOLLY GIRL</td>\n      <td>4</td>\n      <td>12/9/2011 12:50</td>\n      <td>4.15</td>\n      <td>12680.0</td>\n      <td>France</td>\n    </tr>\n    <tr>\n      <th>541907</th>\n      <td>581587</td>\n      <td>23255</td>\n      <td>CHILDRENS CUTLERY CIRCUS PARADE</td>\n      <td>4</td>\n      <td>12/9/2011 12:50</td>\n      <td>4.15</td>\n      <td>12680.0</td>\n      <td>France</td>\n    </tr>\n    <tr>\n      <th>541908</th>\n      <td>581587</td>\n      <td>22138</td>\n      <td>BAKING SET 9 PIECE RETROSPOT</td>\n      <td>3</td>\n      <td>12/9/2011 12:50</td>\n      <td>4.95</td>\n      <td>12680.0</td>\n      <td>France</td>\n    </tr>\n  </tbody>\n</table>\n<p>541909 rows × 8 columns</p>\n</div>"
     },
     "execution_count": 164,
     "metadata": {},
     "output_type": "execute_result"
    }
   ],
   "source": [
    "cleaned_data = original_data.copy()\n",
    "cleaned_data"
   ],
   "metadata": {
    "collapsed": false,
    "ExecuteTime": {
     "end_time": "2023-11-08T14:04:53.578341Z",
     "start_time": "2023-11-08T14:04:53.559637Z"
    }
   }
  },
  {
   "cell_type": "markdown",
   "source": [
    "### InvoiceDate的变量数据类型转换为日期时间"
   ],
   "metadata": {
    "collapsed": false
   }
  },
  {
   "cell_type": "code",
   "execution_count": 165,
   "outputs": [
    {
     "data": {
      "text/plain": "0        2010-12-01 08:26:00\n1        2010-12-01 08:26:00\n2        2010-12-01 08:26:00\n3        2010-12-01 08:26:00\n4        2010-12-01 08:26:00\n                 ...        \n541904   2011-12-09 12:50:00\n541905   2011-12-09 12:50:00\n541906   2011-12-09 12:50:00\n541907   2011-12-09 12:50:00\n541908   2011-12-09 12:50:00\nName: InvoiceDate, Length: 541909, dtype: datetime64[ns]"
     },
     "execution_count": 165,
     "metadata": {},
     "output_type": "execute_result"
    }
   ],
   "source": [
    "cleaned_data[\"InvoiceDate\"] = pd.to_datetime(cleaned_data[\"InvoiceDate\"])\n",
    "cleaned_data[\"InvoiceDate\"]"
   ],
   "metadata": {
    "collapsed": false,
    "ExecuteTime": {
     "end_time": "2023-11-08T14:04:53.655772Z",
     "start_time": "2023-11-08T14:04:53.584271Z"
    }
   }
  },
  {
   "cell_type": "code",
   "execution_count": 166,
   "outputs": [
    {
     "data": {
      "text/plain": "0         17850.0\n1         17850.0\n2         17850.0\n3         17850.0\n4         17850.0\n           ...   \n541904    12680.0\n541905    12680.0\n541906    12680.0\n541907    12680.0\n541908    12680.0\nName: CustomerID, Length: 541909, dtype: object"
     },
     "execution_count": 166,
     "metadata": {},
     "output_type": "execute_result"
    }
   ],
   "source": [
    "cleaned_data[\"CustomerID\"] = cleaned_data[\"CustomerID\"].astype(str)\n",
    "cleaned_data[\"CustomerID\"]"
   ],
   "metadata": {
    "collapsed": false,
    "ExecuteTime": {
     "end_time": "2023-11-08T14:04:53.768907Z",
     "start_time": "2023-11-08T14:04:53.762525Z"
    }
   }
  },
  {
   "cell_type": "code",
   "execution_count": 167,
   "outputs": [
    {
     "data": {
      "text/plain": "       InvoiceNo StockCode                          Description  Quantity  \\\n0         536365    85123A   WHITE HANGING HEART T-LIGHT HOLDER         6   \n1         536365     71053                  WHITE METAL LANTERN         6   \n2         536365    84406B       CREAM CUPID HEARTS COAT HANGER         8   \n3         536365    84029G  KNITTED UNION FLAG HOT WATER BOTTLE         6   \n4         536365    84029E       RED WOOLLY HOTTIE WHITE HEART.         6   \n...          ...       ...                                  ...       ...   \n541904    581587     22613          PACK OF 20 SPACEBOY NAPKINS        12   \n541905    581587     22899         CHILDREN'S APRON DOLLY GIRL          6   \n541906    581587     23254        CHILDRENS CUTLERY DOLLY GIRL          4   \n541907    581587     23255      CHILDRENS CUTLERY CIRCUS PARADE         4   \n541908    581587     22138        BAKING SET 9 PIECE RETROSPOT          3   \n\n               InvoiceDate  UnitPrice CustomerID         Country  \n0      2010-12-01 08:26:00       2.55      17850  United Kingdom  \n1      2010-12-01 08:26:00       3.39      17850  United Kingdom  \n2      2010-12-01 08:26:00       2.75      17850  United Kingdom  \n3      2010-12-01 08:26:00       3.39      17850  United Kingdom  \n4      2010-12-01 08:26:00       3.39      17850  United Kingdom  \n...                    ...        ...        ...             ...  \n541904 2011-12-09 12:50:00       0.85      12680          France  \n541905 2011-12-09 12:50:00       2.10      12680          France  \n541906 2011-12-09 12:50:00       4.15      12680          France  \n541907 2011-12-09 12:50:00       4.15      12680          France  \n541908 2011-12-09 12:50:00       4.95      12680          France  \n\n[541909 rows x 8 columns]",
      "text/html": "<div>\n<style scoped>\n    .dataframe tbody tr th:only-of-type {\n        vertical-align: middle;\n    }\n\n    .dataframe tbody tr th {\n        vertical-align: top;\n    }\n\n    .dataframe thead th {\n        text-align: right;\n    }\n</style>\n<table border=\"1\" class=\"dataframe\">\n  <thead>\n    <tr style=\"text-align: right;\">\n      <th></th>\n      <th>InvoiceNo</th>\n      <th>StockCode</th>\n      <th>Description</th>\n      <th>Quantity</th>\n      <th>InvoiceDate</th>\n      <th>UnitPrice</th>\n      <th>CustomerID</th>\n      <th>Country</th>\n    </tr>\n  </thead>\n  <tbody>\n    <tr>\n      <th>0</th>\n      <td>536365</td>\n      <td>85123A</td>\n      <td>WHITE HANGING HEART T-LIGHT HOLDER</td>\n      <td>6</td>\n      <td>2010-12-01 08:26:00</td>\n      <td>2.55</td>\n      <td>17850</td>\n      <td>United Kingdom</td>\n    </tr>\n    <tr>\n      <th>1</th>\n      <td>536365</td>\n      <td>71053</td>\n      <td>WHITE METAL LANTERN</td>\n      <td>6</td>\n      <td>2010-12-01 08:26:00</td>\n      <td>3.39</td>\n      <td>17850</td>\n      <td>United Kingdom</td>\n    </tr>\n    <tr>\n      <th>2</th>\n      <td>536365</td>\n      <td>84406B</td>\n      <td>CREAM CUPID HEARTS COAT HANGER</td>\n      <td>8</td>\n      <td>2010-12-01 08:26:00</td>\n      <td>2.75</td>\n      <td>17850</td>\n      <td>United Kingdom</td>\n    </tr>\n    <tr>\n      <th>3</th>\n      <td>536365</td>\n      <td>84029G</td>\n      <td>KNITTED UNION FLAG HOT WATER BOTTLE</td>\n      <td>6</td>\n      <td>2010-12-01 08:26:00</td>\n      <td>3.39</td>\n      <td>17850</td>\n      <td>United Kingdom</td>\n    </tr>\n    <tr>\n      <th>4</th>\n      <td>536365</td>\n      <td>84029E</td>\n      <td>RED WOOLLY HOTTIE WHITE HEART.</td>\n      <td>6</td>\n      <td>2010-12-01 08:26:00</td>\n      <td>3.39</td>\n      <td>17850</td>\n      <td>United Kingdom</td>\n    </tr>\n    <tr>\n      <th>...</th>\n      <td>...</td>\n      <td>...</td>\n      <td>...</td>\n      <td>...</td>\n      <td>...</td>\n      <td>...</td>\n      <td>...</td>\n      <td>...</td>\n    </tr>\n    <tr>\n      <th>541904</th>\n      <td>581587</td>\n      <td>22613</td>\n      <td>PACK OF 20 SPACEBOY NAPKINS</td>\n      <td>12</td>\n      <td>2011-12-09 12:50:00</td>\n      <td>0.85</td>\n      <td>12680</td>\n      <td>France</td>\n    </tr>\n    <tr>\n      <th>541905</th>\n      <td>581587</td>\n      <td>22899</td>\n      <td>CHILDREN'S APRON DOLLY GIRL</td>\n      <td>6</td>\n      <td>2011-12-09 12:50:00</td>\n      <td>2.10</td>\n      <td>12680</td>\n      <td>France</td>\n    </tr>\n    <tr>\n      <th>541906</th>\n      <td>581587</td>\n      <td>23254</td>\n      <td>CHILDRENS CUTLERY DOLLY GIRL</td>\n      <td>4</td>\n      <td>2011-12-09 12:50:00</td>\n      <td>4.15</td>\n      <td>12680</td>\n      <td>France</td>\n    </tr>\n    <tr>\n      <th>541907</th>\n      <td>581587</td>\n      <td>23255</td>\n      <td>CHILDRENS CUTLERY CIRCUS PARADE</td>\n      <td>4</td>\n      <td>2011-12-09 12:50:00</td>\n      <td>4.15</td>\n      <td>12680</td>\n      <td>France</td>\n    </tr>\n    <tr>\n      <th>541908</th>\n      <td>581587</td>\n      <td>22138</td>\n      <td>BAKING SET 9 PIECE RETROSPOT</td>\n      <td>3</td>\n      <td>2011-12-09 12:50:00</td>\n      <td>4.95</td>\n      <td>12680</td>\n      <td>France</td>\n    </tr>\n  </tbody>\n</table>\n<p>541909 rows × 8 columns</p>\n</div>"
     },
     "execution_count": 167,
     "metadata": {},
     "output_type": "execute_result"
    }
   ],
   "source": [
    "cleaned_data[\"CustomerID\"] = cleaned_data[\"CustomerID\"].str.slice(0,-2)\n",
    "cleaned_data"
   ],
   "metadata": {
    "collapsed": false,
    "ExecuteTime": {
     "end_time": "2023-11-08T14:04:53.835898Z",
     "start_time": "2023-11-08T14:04:53.815695Z"
    }
   }
  },
  {
   "cell_type": "code",
   "execution_count": 168,
   "outputs": [
    {
     "data": {
      "text/plain": "       InvoiceNo StockCode                          Description  Quantity  \\\n0         536365    85123A   WHITE HANGING HEART T-LIGHT HOLDER         6   \n1         536365     71053                  WHITE METAL LANTERN         6   \n2         536365    84406B       CREAM CUPID HEARTS COAT HANGER         8   \n3         536365    84029G  KNITTED UNION FLAG HOT WATER BOTTLE         6   \n4         536365    84029E       RED WOOLLY HOTTIE WHITE HEART.         6   \n...          ...       ...                                  ...       ...   \n541904    581587     22613          PACK OF 20 SPACEBOY NAPKINS        12   \n541905    581587     22899         CHILDREN'S APRON DOLLY GIRL          6   \n541906    581587     23254        CHILDRENS CUTLERY DOLLY GIRL          4   \n541907    581587     23255      CHILDRENS CUTLERY CIRCUS PARADE         4   \n541908    581587     22138        BAKING SET 9 PIECE RETROSPOT          3   \n\n               InvoiceDate  UnitPrice CustomerID         Country  \n0      2010-12-01 08:26:00       2.55      17850  United Kingdom  \n1      2010-12-01 08:26:00       3.39      17850  United Kingdom  \n2      2010-12-01 08:26:00       2.75      17850  United Kingdom  \n3      2010-12-01 08:26:00       3.39      17850  United Kingdom  \n4      2010-12-01 08:26:00       3.39      17850  United Kingdom  \n...                    ...        ...        ...             ...  \n541904 2011-12-09 12:50:00       0.85      12680          France  \n541905 2011-12-09 12:50:00       2.10      12680          France  \n541906 2011-12-09 12:50:00       4.15      12680          France  \n541907 2011-12-09 12:50:00       4.15      12680          France  \n541908 2011-12-09 12:50:00       4.95      12680          France  \n\n[540455 rows x 8 columns]",
      "text/html": "<div>\n<style scoped>\n    .dataframe tbody tr th:only-of-type {\n        vertical-align: middle;\n    }\n\n    .dataframe tbody tr th {\n        vertical-align: top;\n    }\n\n    .dataframe thead th {\n        text-align: right;\n    }\n</style>\n<table border=\"1\" class=\"dataframe\">\n  <thead>\n    <tr style=\"text-align: right;\">\n      <th></th>\n      <th>InvoiceNo</th>\n      <th>StockCode</th>\n      <th>Description</th>\n      <th>Quantity</th>\n      <th>InvoiceDate</th>\n      <th>UnitPrice</th>\n      <th>CustomerID</th>\n      <th>Country</th>\n    </tr>\n  </thead>\n  <tbody>\n    <tr>\n      <th>0</th>\n      <td>536365</td>\n      <td>85123A</td>\n      <td>WHITE HANGING HEART T-LIGHT HOLDER</td>\n      <td>6</td>\n      <td>2010-12-01 08:26:00</td>\n      <td>2.55</td>\n      <td>17850</td>\n      <td>United Kingdom</td>\n    </tr>\n    <tr>\n      <th>1</th>\n      <td>536365</td>\n      <td>71053</td>\n      <td>WHITE METAL LANTERN</td>\n      <td>6</td>\n      <td>2010-12-01 08:26:00</td>\n      <td>3.39</td>\n      <td>17850</td>\n      <td>United Kingdom</td>\n    </tr>\n    <tr>\n      <th>2</th>\n      <td>536365</td>\n      <td>84406B</td>\n      <td>CREAM CUPID HEARTS COAT HANGER</td>\n      <td>8</td>\n      <td>2010-12-01 08:26:00</td>\n      <td>2.75</td>\n      <td>17850</td>\n      <td>United Kingdom</td>\n    </tr>\n    <tr>\n      <th>3</th>\n      <td>536365</td>\n      <td>84029G</td>\n      <td>KNITTED UNION FLAG HOT WATER BOTTLE</td>\n      <td>6</td>\n      <td>2010-12-01 08:26:00</td>\n      <td>3.39</td>\n      <td>17850</td>\n      <td>United Kingdom</td>\n    </tr>\n    <tr>\n      <th>4</th>\n      <td>536365</td>\n      <td>84029E</td>\n      <td>RED WOOLLY HOTTIE WHITE HEART.</td>\n      <td>6</td>\n      <td>2010-12-01 08:26:00</td>\n      <td>3.39</td>\n      <td>17850</td>\n      <td>United Kingdom</td>\n    </tr>\n    <tr>\n      <th>...</th>\n      <td>...</td>\n      <td>...</td>\n      <td>...</td>\n      <td>...</td>\n      <td>...</td>\n      <td>...</td>\n      <td>...</td>\n      <td>...</td>\n    </tr>\n    <tr>\n      <th>541904</th>\n      <td>581587</td>\n      <td>22613</td>\n      <td>PACK OF 20 SPACEBOY NAPKINS</td>\n      <td>12</td>\n      <td>2011-12-09 12:50:00</td>\n      <td>0.85</td>\n      <td>12680</td>\n      <td>France</td>\n    </tr>\n    <tr>\n      <th>541905</th>\n      <td>581587</td>\n      <td>22899</td>\n      <td>CHILDREN'S APRON DOLLY GIRL</td>\n      <td>6</td>\n      <td>2011-12-09 12:50:00</td>\n      <td>2.10</td>\n      <td>12680</td>\n      <td>France</td>\n    </tr>\n    <tr>\n      <th>541906</th>\n      <td>581587</td>\n      <td>23254</td>\n      <td>CHILDRENS CUTLERY DOLLY GIRL</td>\n      <td>4</td>\n      <td>2011-12-09 12:50:00</td>\n      <td>4.15</td>\n      <td>12680</td>\n      <td>France</td>\n    </tr>\n    <tr>\n      <th>541907</th>\n      <td>581587</td>\n      <td>23255</td>\n      <td>CHILDRENS CUTLERY CIRCUS PARADE</td>\n      <td>4</td>\n      <td>2011-12-09 12:50:00</td>\n      <td>4.15</td>\n      <td>12680</td>\n      <td>France</td>\n    </tr>\n    <tr>\n      <th>541908</th>\n      <td>581587</td>\n      <td>22138</td>\n      <td>BAKING SET 9 PIECE RETROSPOT</td>\n      <td>3</td>\n      <td>2011-12-09 12:50:00</td>\n      <td>4.95</td>\n      <td>12680</td>\n      <td>France</td>\n    </tr>\n  </tbody>\n</table>\n<p>540455 rows × 8 columns</p>\n</div>"
     },
     "execution_count": 168,
     "metadata": {},
     "output_type": "execute_result"
    }
   ],
   "source": [
    "cleaned_data.dropna(subset=[\"Description\"],inplace=True)\n",
    "cleaned_data"
   ],
   "metadata": {
    "collapsed": false,
    "ExecuteTime": {
     "end_time": "2023-11-08T14:04:53.893360Z",
     "start_time": "2023-11-08T14:04:53.847387Z"
    }
   }
  },
  {
   "cell_type": "code",
   "execution_count": 169,
   "outputs": [
    {
     "data": {
      "text/plain": "0"
     },
     "execution_count": 169,
     "metadata": {},
     "output_type": "execute_result"
    }
   ],
   "source": [
    "cleaned_data[\"Description\"].isnull().sum()"
   ],
   "metadata": {
    "collapsed": false,
    "ExecuteTime": {
     "end_time": "2023-11-08T14:04:53.893761Z",
     "start_time": "2023-11-08T14:04:53.886520Z"
    }
   }
  },
  {
   "cell_type": "code",
   "execution_count": 170,
   "outputs": [],
   "source": [
    "cleaned_data[\"Country\"] = cleaned_data[\"Country\"].replace(\"USA\", \"Unite States\")"
   ],
   "metadata": {
    "collapsed": false,
    "ExecuteTime": {
     "end_time": "2023-11-08T14:04:53.919798Z",
     "start_time": "2023-11-08T14:04:53.898703Z"
    }
   }
  },
  {
   "cell_type": "code",
   "execution_count": 171,
   "outputs": [
    {
     "data": {
      "text/plain": "Empty DataFrame\nColumns: [InvoiceNo, StockCode, Description, Quantity, InvoiceDate, UnitPrice, CustomerID, Country]\nIndex: []",
      "text/html": "<div>\n<style scoped>\n    .dataframe tbody tr th:only-of-type {\n        vertical-align: middle;\n    }\n\n    .dataframe tbody tr th {\n        vertical-align: top;\n    }\n\n    .dataframe thead th {\n        text-align: right;\n    }\n</style>\n<table border=\"1\" class=\"dataframe\">\n  <thead>\n    <tr style=\"text-align: right;\">\n      <th></th>\n      <th>InvoiceNo</th>\n      <th>StockCode</th>\n      <th>Description</th>\n      <th>Quantity</th>\n      <th>InvoiceDate</th>\n      <th>UnitPrice</th>\n      <th>CustomerID</th>\n      <th>Country</th>\n    </tr>\n  </thead>\n  <tbody>\n  </tbody>\n</table>\n</div>"
     },
     "execution_count": 171,
     "metadata": {},
     "output_type": "execute_result"
    }
   ],
   "source": [
    "cleaned_data[cleaned_data[\"Country\"] == \"USA\"]"
   ],
   "metadata": {
    "collapsed": false,
    "ExecuteTime": {
     "end_time": "2023-11-08T14:04:53.944890Z",
     "start_time": "2023-11-08T14:04:53.931522Z"
    }
   }
  },
  {
   "cell_type": "code",
   "execution_count": 172,
   "outputs": [],
   "source": [
    "cleaned_data[\"Country\"] = cleaned_data[\"Country\"].replace([\"UK\",\"U.K.\"], \"Unite Kingdom\")"
   ],
   "metadata": {
    "collapsed": false,
    "ExecuteTime": {
     "end_time": "2023-11-08T14:04:53.995651Z",
     "start_time": "2023-11-08T14:04:53.944202Z"
    }
   }
  },
  {
   "cell_type": "code",
   "execution_count": 173,
   "outputs": [
    {
     "data": {
      "text/plain": "Empty DataFrame\nColumns: [InvoiceNo, StockCode, Description, Quantity, InvoiceDate, UnitPrice, CustomerID, Country]\nIndex: []",
      "text/html": "<div>\n<style scoped>\n    .dataframe tbody tr th:only-of-type {\n        vertical-align: middle;\n    }\n\n    .dataframe tbody tr th {\n        vertical-align: top;\n    }\n\n    .dataframe thead th {\n        text-align: right;\n    }\n</style>\n<table border=\"1\" class=\"dataframe\">\n  <thead>\n    <tr style=\"text-align: right;\">\n      <th></th>\n      <th>InvoiceNo</th>\n      <th>StockCode</th>\n      <th>Description</th>\n      <th>Quantity</th>\n      <th>InvoiceDate</th>\n      <th>UnitPrice</th>\n      <th>CustomerID</th>\n      <th>Country</th>\n    </tr>\n  </thead>\n  <tbody>\n  </tbody>\n</table>\n</div>"
     },
     "execution_count": 173,
     "metadata": {},
     "output_type": "execute_result"
    }
   ],
   "source": [
    "cleaned_data[cleaned_data[\"Country\"] == \"U.K.\"]"
   ],
   "metadata": {
    "collapsed": false,
    "ExecuteTime": {
     "end_time": "2023-11-08T14:04:53.997802Z",
     "start_time": "2023-11-08T14:04:53.993625Z"
    }
   }
  },
  {
   "cell_type": "code",
   "execution_count": 176,
   "outputs": [],
   "source": [
    "cleaned_data = cleaned_data[cleaned_data[\"Quantity\"] >= 0]"
   ],
   "metadata": {
    "collapsed": false,
    "ExecuteTime": {
     "end_time": "2023-11-08T14:05:21.449014Z",
     "start_time": "2023-11-08T14:05:21.409515Z"
    }
   }
  },
  {
   "cell_type": "code",
   "execution_count": 177,
   "outputs": [
    {
     "data": {
      "text/plain": "Empty DataFrame\nColumns: [InvoiceNo, StockCode, Description, Quantity, InvoiceDate, UnitPrice, CustomerID, Country]\nIndex: []",
      "text/html": "<div>\n<style scoped>\n    .dataframe tbody tr th:only-of-type {\n        vertical-align: middle;\n    }\n\n    .dataframe tbody tr th {\n        vertical-align: top;\n    }\n\n    .dataframe thead th {\n        text-align: right;\n    }\n</style>\n<table border=\"1\" class=\"dataframe\">\n  <thead>\n    <tr style=\"text-align: right;\">\n      <th></th>\n      <th>InvoiceNo</th>\n      <th>StockCode</th>\n      <th>Description</th>\n      <th>Quantity</th>\n      <th>InvoiceDate</th>\n      <th>UnitPrice</th>\n      <th>CustomerID</th>\n      <th>Country</th>\n    </tr>\n  </thead>\n  <tbody>\n  </tbody>\n</table>\n</div>"
     },
     "execution_count": 177,
     "metadata": {},
     "output_type": "execute_result"
    }
   ],
   "source": [
    "cleaned_data[cleaned_data[\"Quantity\"] < 0]"
   ],
   "metadata": {
    "collapsed": false,
    "ExecuteTime": {
     "end_time": "2023-11-08T14:05:25.349391Z",
     "start_time": "2023-11-08T14:05:25.343526Z"
    }
   }
  },
  {
   "cell_type": "code",
   "execution_count": 178,
   "outputs": [],
   "source": [
    "cleaned_data = cleaned_data[cleaned_data[\"UnitPrice\"] >= 0]"
   ],
   "metadata": {
    "collapsed": false,
    "ExecuteTime": {
     "end_time": "2023-11-08T14:05:53.852947Z",
     "start_time": "2023-11-08T14:05:53.818331Z"
    }
   }
  },
  {
   "cell_type": "code",
   "execution_count": 179,
   "outputs": [
    {
     "data": {
      "text/plain": "Empty DataFrame\nColumns: [InvoiceNo, StockCode, Description, Quantity, InvoiceDate, UnitPrice, CustomerID, Country]\nIndex: []",
      "text/html": "<div>\n<style scoped>\n    .dataframe tbody tr th:only-of-type {\n        vertical-align: middle;\n    }\n\n    .dataframe tbody tr th {\n        vertical-align: top;\n    }\n\n    .dataframe thead th {\n        text-align: right;\n    }\n</style>\n<table border=\"1\" class=\"dataframe\">\n  <thead>\n    <tr style=\"text-align: right;\">\n      <th></th>\n      <th>InvoiceNo</th>\n      <th>StockCode</th>\n      <th>Description</th>\n      <th>Quantity</th>\n      <th>InvoiceDate</th>\n      <th>UnitPrice</th>\n      <th>CustomerID</th>\n      <th>Country</th>\n    </tr>\n  </thead>\n  <tbody>\n  </tbody>\n</table>\n</div>"
     },
     "execution_count": 179,
     "metadata": {},
     "output_type": "execute_result"
    }
   ],
   "source": [
    "cleaned_data[cleaned_data[\"UnitPrice\"] < 0]"
   ],
   "metadata": {
    "collapsed": false,
    "ExecuteTime": {
     "end_time": "2023-11-08T14:06:02.768040Z",
     "start_time": "2023-11-08T14:06:02.761275Z"
    }
   }
  },
  {
   "cell_type": "markdown",
   "metadata": {},
   "source": [
    "## 保存清理后的数据"
   ]
  },
  {
   "cell_type": "code",
   "execution_count": 180,
   "metadata": {
    "ExecuteTime": {
     "end_time": "2023-11-08T14:07:09.905972Z",
     "start_time": "2023-11-08T14:07:09.889198Z"
    }
   },
   "outputs": [
    {
     "data": {
      "text/plain": "  InvoiceNo StockCode                          Description  Quantity  \\\n0    536365    85123A   WHITE HANGING HEART T-LIGHT HOLDER         6   \n1    536365     71053                  WHITE METAL LANTERN         6   \n2    536365    84406B       CREAM CUPID HEARTS COAT HANGER         8   \n3    536365    84029G  KNITTED UNION FLAG HOT WATER BOTTLE         6   \n4    536365    84029E       RED WOOLLY HOTTIE WHITE HEART.         6   \n\n          InvoiceDate  UnitPrice CustomerID         Country  \n0 2010-12-01 08:26:00       2.55      17850  United Kingdom  \n1 2010-12-01 08:26:00       3.39      17850  United Kingdom  \n2 2010-12-01 08:26:00       2.75      17850  United Kingdom  \n3 2010-12-01 08:26:00       3.39      17850  United Kingdom  \n4 2010-12-01 08:26:00       3.39      17850  United Kingdom  ",
      "text/html": "<div>\n<style scoped>\n    .dataframe tbody tr th:only-of-type {\n        vertical-align: middle;\n    }\n\n    .dataframe tbody tr th {\n        vertical-align: top;\n    }\n\n    .dataframe thead th {\n        text-align: right;\n    }\n</style>\n<table border=\"1\" class=\"dataframe\">\n  <thead>\n    <tr style=\"text-align: right;\">\n      <th></th>\n      <th>InvoiceNo</th>\n      <th>StockCode</th>\n      <th>Description</th>\n      <th>Quantity</th>\n      <th>InvoiceDate</th>\n      <th>UnitPrice</th>\n      <th>CustomerID</th>\n      <th>Country</th>\n    </tr>\n  </thead>\n  <tbody>\n    <tr>\n      <th>0</th>\n      <td>536365</td>\n      <td>85123A</td>\n      <td>WHITE HANGING HEART T-LIGHT HOLDER</td>\n      <td>6</td>\n      <td>2010-12-01 08:26:00</td>\n      <td>2.55</td>\n      <td>17850</td>\n      <td>United Kingdom</td>\n    </tr>\n    <tr>\n      <th>1</th>\n      <td>536365</td>\n      <td>71053</td>\n      <td>WHITE METAL LANTERN</td>\n      <td>6</td>\n      <td>2010-12-01 08:26:00</td>\n      <td>3.39</td>\n      <td>17850</td>\n      <td>United Kingdom</td>\n    </tr>\n    <tr>\n      <th>2</th>\n      <td>536365</td>\n      <td>84406B</td>\n      <td>CREAM CUPID HEARTS COAT HANGER</td>\n      <td>8</td>\n      <td>2010-12-01 08:26:00</td>\n      <td>2.75</td>\n      <td>17850</td>\n      <td>United Kingdom</td>\n    </tr>\n    <tr>\n      <th>3</th>\n      <td>536365</td>\n      <td>84029G</td>\n      <td>KNITTED UNION FLAG HOT WATER BOTTLE</td>\n      <td>6</td>\n      <td>2010-12-01 08:26:00</td>\n      <td>3.39</td>\n      <td>17850</td>\n      <td>United Kingdom</td>\n    </tr>\n    <tr>\n      <th>4</th>\n      <td>536365</td>\n      <td>84029E</td>\n      <td>RED WOOLLY HOTTIE WHITE HEART.</td>\n      <td>6</td>\n      <td>2010-12-01 08:26:00</td>\n      <td>3.39</td>\n      <td>17850</td>\n      <td>United Kingdom</td>\n    </tr>\n  </tbody>\n</table>\n</div>"
     },
     "execution_count": 180,
     "metadata": {},
     "output_type": "execute_result"
    }
   ],
   "source": [
    "cleaned_data.head()"
   ]
  },
  {
   "cell_type": "code",
   "execution_count": 182,
   "outputs": [],
   "source": [
    "cleaned_data.to_csv(\"/Users/teddy/Desktop/林粒粒/4.数据评估与清洗/cleaned_example.csv\",index=False)"
   ],
   "metadata": {
    "collapsed": false,
    "ExecuteTime": {
     "end_time": "2023-11-08T14:10:33.286333Z",
     "start_time": "2023-11-08T14:10:32.137919Z"
    }
   }
  },
  {
   "cell_type": "code",
   "execution_count": null,
   "outputs": [],
   "source": [],
   "metadata": {
    "collapsed": false
   }
  }
 ],
 "metadata": {
  "kernelspec": {
   "display_name": "Python 3",
   "language": "python",
   "name": "python3"
  },
  "language_info": {
   "codemirror_mode": {
    "name": "ipython",
    "version": 3
   },
   "file_extension": ".py",
   "mimetype": "text/x-python",
   "name": "python",
   "nbconvert_exporter": "python",
   "pygments_lexer": "ipython3",
   "version": "3.8.1"
  }
 },
 "nbformat": 4,
 "nbformat_minor": 4
}
